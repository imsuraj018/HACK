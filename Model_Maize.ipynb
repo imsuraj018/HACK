{
 "cells": [
  {
   "cell_type": "code",
   "execution_count": 2,
   "id": "02639a37-cb9b-4734-8cce-3c34f9e8c8c3",
   "metadata": {},
   "outputs": [
    {
     "name": "stdout",
     "output_type": "stream",
     "text": [
      "Found 3352 images belonging to 4 classes.\n",
      "Found 836 images belonging to 4 classes.\n"
     ]
    }
   ],
   "source": [
    "from tensorflow.keras.preprocessing.image import ImageDataGenerator\n",
    "\n",
    "IMG_SIZE = (224, 224)\n",
    "BATCH_SIZE = 32\n",
    "\n",
    "#DATA AUGUMENTATION\n",
    "train_gen = ImageDataGenerator(\n",
    "    rescale = 1./255,\n",
    "    rotation_range = 20,\n",
    "    zoom_range = 0.2,\n",
    "    horizontal_flip = True,\n",
    "    validation_split = 0.2\n",
    ")\n",
    "\n",
    "#DATA PRE-PROCESSING\n",
    "train_data = train_gen.flow_from_directory(\n",
    "    \"/home/sk/Desktop/crop_disease_dataset/Maize_dataset/data\",\n",
    "    target_size = IMG_SIZE,\n",
    "    batch_size = BATCH_SIZE,\n",
    "    subset = 'training',\n",
    "    class_mode = 'categorical'\n",
    ")\n",
    "\n",
    "val_data = train_gen.flow_from_directory(\n",
    "    \"/home/sk/Desktop/crop_disease_dataset/Maize_dataset/data\",\n",
    "    target_size = IMG_SIZE,\n",
    "    batch_size = BATCH_SIZE,\n",
    "    subset = 'validation',\n",
    "    class_mode = 'categorical'\n",
    ")"
   ]
  },
  {
   "cell_type": "code",
   "execution_count": 3,
   "id": "24692c0e-7d36-4ee5-9466-409b724af134",
   "metadata": {},
   "outputs": [],
   "source": [
    "# This should be mapped as per order in actual dataset\n",
    "\n",
    "class_weights = {\n",
    "    0: 0.8017,  \n",
    "    1: 0.9010,  \n",
    "    2: 1.8240, \n",
    "    3: 0.9136   \n",
    "}\n"
   ]
  },
  {
   "cell_type": "code",
   "execution_count": 4,
   "id": "ff4c80c2-b062-484c-9104-9ef268974dc1",
   "metadata": {},
   "outputs": [],
   "source": [
    "from tensorflow.keras.models import Sequential\n",
    "from tensorflow.keras.layers import Conv2D, MaxPooling2D, Flatten, Dense, Dropout, BatchNormalization\n",
    "\n",
    "model = Sequential([\n",
    "    Conv2D(32, (3,3), activation='relu', input_shape=(224,224,3)),\n",
    "    BatchNormalization(),\n",
    "    MaxPooling2D(2,2),\n",
    "\n",
    "    Conv2D(64, (3,3), activation='relu'),\n",
    "    BatchNormalization(),\n",
    "    MaxPooling2D(2,2),\n",
    "\n",
    "    Conv2D(128, (3,3), activation='relu'),\n",
    "    BatchNormalization(),\n",
    "    MaxPooling2D(2,2),\n",
    "\n",
    "    Flatten(),\n",
    "    Dense(256, activation='relu'),\n",
    "    Dropout(0.5),\n",
    "    Dense(train_data.num_classes, activation='softmax')\n",
    "])\n",
    "\n",
    "model.compile(optimizer='adam', loss='categorical_crossentropy', metrics=['accuracy'])\n"
   ]
  },
  {
   "cell_type": "code",
   "execution_count": 6,
   "id": "f985c95e-e23c-4baa-812e-cefee42c1996",
   "metadata": {},
   "outputs": [
    {
     "name": "stdout",
     "output_type": "stream",
     "text": [
      "Epoch 1/10\n",
      "\u001b[1m105/105\u001b[0m \u001b[32m━━━━━━━━━━━━━━━━━━━━\u001b[0m\u001b[37m\u001b[0m \u001b[1m25s\u001b[0m 235ms/step - accuracy: 0.8452 - loss: 0.5239 - val_accuracy: 0.8696 - val_loss: 0.4098\n",
      "Epoch 2/10\n",
      "\u001b[1m105/105\u001b[0m \u001b[32m━━━━━━━━━━━━━━━━━━━━\u001b[0m\u001b[37m\u001b[0m \u001b[1m25s\u001b[0m 233ms/step - accuracy: 0.8434 - loss: 0.3758 - val_accuracy: 0.8864 - val_loss: 0.3337\n",
      "Epoch 3/10\n",
      "\u001b[1m105/105\u001b[0m \u001b[32m━━━━━━━━━━━━━━━━━━━━\u001b[0m\u001b[37m\u001b[0m \u001b[1m24s\u001b[0m 231ms/step - accuracy: 0.8496 - loss: 0.4593 - val_accuracy: 0.8792 - val_loss: 0.2660\n",
      "Epoch 4/10\n",
      "\u001b[1m105/105\u001b[0m \u001b[32m━━━━━━━━━━━━━━━━━━━━\u001b[0m\u001b[37m\u001b[0m \u001b[1m25s\u001b[0m 233ms/step - accuracy: 0.8398 - loss: 0.4494 - val_accuracy: 0.8696 - val_loss: 0.3745\n",
      "Epoch 5/10\n",
      "\u001b[1m105/105\u001b[0m \u001b[32m━━━━━━━━━━━━━━━━━━━━\u001b[0m\u001b[37m\u001b[0m \u001b[1m25s\u001b[0m 233ms/step - accuracy: 0.8431 - loss: 0.4860 - val_accuracy: 0.6017 - val_loss: 4.9991\n",
      "Epoch 6/10\n",
      "\u001b[1m105/105\u001b[0m \u001b[32m━━━━━━━━━━━━━━━━━━━━\u001b[0m\u001b[37m\u001b[0m \u001b[1m25s\u001b[0m 233ms/step - accuracy: 0.8311 - loss: 0.4881 - val_accuracy: 0.8600 - val_loss: 0.4491\n",
      "Epoch 7/10\n",
      "\u001b[1m105/105\u001b[0m \u001b[32m━━━━━━━━━━━━━━━━━━━━\u001b[0m\u001b[37m\u001b[0m \u001b[1m25s\u001b[0m 234ms/step - accuracy: 0.8368 - loss: 0.4698 - val_accuracy: 0.7356 - val_loss: 1.0143\n",
      "Epoch 8/10\n",
      "\u001b[1m105/105\u001b[0m \u001b[32m━━━━━━━━━━━━━━━━━━━━\u001b[0m\u001b[37m\u001b[0m \u001b[1m25s\u001b[0m 234ms/step - accuracy: 0.8502 - loss: 0.3618 - val_accuracy: 0.9139 - val_loss: 0.2810\n",
      "Epoch 9/10\n",
      "\u001b[1m105/105\u001b[0m \u001b[32m━━━━━━━━━━━━━━━━━━━━\u001b[0m\u001b[37m\u001b[0m \u001b[1m25s\u001b[0m 235ms/step - accuracy: 0.8532 - loss: 0.3744 - val_accuracy: 0.8481 - val_loss: 0.5763\n",
      "Epoch 10/10\n",
      "\u001b[1m105/105\u001b[0m \u001b[32m━━━━━━━━━━━━━━━━━━━━\u001b[0m\u001b[37m\u001b[0m \u001b[1m25s\u001b[0m 233ms/step - accuracy: 0.8631 - loss: 0.3570 - val_accuracy: 0.9163 - val_loss: 0.2825\n"
     ]
    },
    {
     "name": "stderr",
     "output_type": "stream",
     "text": [
      "WARNING:absl:You are saving your model as an HDF5 file via `model.save()` or `keras.saving.save_model(model)`. This file format is considered legacy. We recommend using instead the native Keras format, e.g. `model.save('my_model.keras')` or `keras.saving.save_model(model, 'my_model.keras')`. \n"
     ]
    }
   ],
   "source": [
    "from tensorflow.keras.callbacks import EarlyStopping, ReduceLROnPlateau\n",
    "\n",
    "\n",
    "# To stop overfitting\n",
    "\n",
    "early_stop = EarlyStopping(\n",
    "    monitor='val_loss',      # Monitor validation loss\n",
    "    patience=5,              # Stop if no improvement for 5 epochs\n",
    "    restore_best_weights=True # Restore the weights of the best epoch\n",
    ")\n",
    "\n",
    "reduce_lr = ReduceLROnPlateau(\n",
    "    monitor='val_loss',\n",
    "    factor=0.5,     # Reduce LR by factor\n",
    "    patience=3,     # Wait 3 epochs before reducing\n",
    "    min_lr=1e-6\n",
    ")\n",
    "\n",
    "\n",
    "\n",
    "history = model.fit(\n",
    "    train_data,\n",
    "    validation_data=val_data,\n",
    "    epochs=10,\n",
    "    batch_size=BATCH_SIZE\n",
    ")\n",
    "\n",
    "# Save the model\n",
    "model.save(\"maize_disease_model.h5\")\n"
   ]
  },
  {
   "cell_type": "code",
   "execution_count": 7,
   "id": "aba95900-6820-41ce-a91b-e91b5e4c259f",
   "metadata": {},
   "outputs": [
    {
     "name": "stderr",
     "output_type": "stream",
     "text": [
      "WARNING:absl:Compiled the loaded model, but the compiled metrics have yet to be built. `model.compile_metrics` will be empty until you train or evaluate the model.\n"
     ]
    }
   ],
   "source": [
    "from tensorflow.keras.models import load_model\n",
    "\n",
    "# Load your trained maize model\n",
    "model = load_model(\"maize_disease_model.h5\")\n",
    "class_labels = ['Northern_Leaf_Blight', 'Common_Rust', 'Gray_Leaf_Spot', 'Healthy']\n"
   ]
  },
  {
   "cell_type": "code",
   "execution_count": 18,
   "id": "69bea431-9cd7-451a-9d75-b141b8a7058d",
   "metadata": {},
   "outputs": [],
   "source": [
    "import numpy as np\n",
    "from tensorflow.keras.preprocessing import image\n",
    "\n",
    "def predict_image(img_path, threshold=0.75):\n",
    "    # Load and preprocess image\n",
    "    img = image.load_img(img_path, target_size=(224,224))\n",
    "    img_array = image.img_to_array(img) / 255.0\n",
    "    img_array = np.expand_dims(img_array, axis=0)\n",
    "\n",
    "    # Predict\n",
    "    preds = model.predict(img_array, verbose=0)\n",
    "    pred_class = class_labels[np.argmax(preds)]\n",
    "    confidence = np.max(preds)\n",
    "\n",
    "    if confidence >= threshold:\n",
    "        pred_class = class_labels[np.argmax(preds)]\n",
    "\n",
    "    else:\n",
    "        pred_class = \"Unknown Disease\"\n",
    "\n",
    "    return pred_class, confidence\n"
   ]
  },
  {
   "cell_type": "code",
   "execution_count": 19,
   "id": "ee6c2ba3-3995-44e9-93a9-5291137dbe24",
   "metadata": {},
   "outputs": [
    {
     "data": {
      "text/plain": [
       "('Unknown Disease', np.float32(0.3786256))"
      ]
     },
     "execution_count": 19,
     "metadata": {},
     "output_type": "execute_result"
    }
   ],
   "source": [
    "predict_image(\"/home/sk/Desktop/crop_disease_dataset/Onion_Dataset/onion datasets/Caterpillar-P/8145132_1680251728524_640x480.jpg\")"
   ]
  }
 ],
 "metadata": {
  "kernelspec": {
   "display_name": "Python 3 (ipykernel)",
   "language": "python",
   "name": "python3"
  },
  "language_info": {
   "codemirror_mode": {
    "name": "ipython",
    "version": 3
   },
   "file_extension": ".py",
   "mimetype": "text/x-python",
   "name": "python",
   "nbconvert_exporter": "python",
   "pygments_lexer": "ipython3",
   "version": "3.13.5"
  }
 },
 "nbformat": 4,
 "nbformat_minor": 5
}
